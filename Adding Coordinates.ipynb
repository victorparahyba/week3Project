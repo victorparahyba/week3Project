{
    "nbformat_minor": 1, 
    "cells": [
        {
            "source": "# Code of Last assignment\n\n# Start by installing necessary libraries\n!conda install --yes beautifulsoup4 #Installing beautifulsoup\n!conda install --yes lxml #Installing Parser\n!conda install --yes requests #Installing Requests\n!pip install geocoder #Installing Geocoder \n\n\n# Importing\nfrom bs4 import BeautifulSoup\nimport requests\nimport pandas as pd\nimport geocoder # import geocoder\n\n\n# Getting the HTML file\nsource = requests.get('https://en.wikipedia.org/wiki/List_of_postal_codes_of_Canada:_M').text\nsoup = BeautifulSoup(source,'lxml')\n\n# Parsing Column Names\ncolumn_names = []\nn_rows=0\n\nrows = soup.find('table', class_='wikitable').find_all('tr')\n\nfor row in rows:\n    n_rows+=1\n    th_tags = row.find_all('th')\n    for th in th_tags:\n        text = th.get_text()\n        column_names.append(text.rstrip(\"\\n\\r\"))\n\n# Creating Data Frame\n\ndf = pd.DataFrame(columns = column_names,index= range(0,n_rows))\n\nrow_index = 0\nfor row in rows:\n    column_index = 0\n    columns = row.find_all('td')\n    for column in columns:\n        text = column.get_text()\n        df.iat[row_index,column_index] = text.rstrip(\"\\n\\r\") # Cleaning \\n\n        column_index += 1\n    row_index += 1\n# Cleaning Data Frame from NaN's and Not Assigned\n\ndf.drop([0], axis=0, inplace=True) # Droping first NaN line\n\ndf_valuable = df[(df['Borough'] != 'Not assigned')] #Removing Not Assigned Borough\n\ndf_clean = df_valuable.where(df_valuable != 'Not assigned',df['Borough'], axis =0) #Copying Neighbourhood\n\ndf_clean.head(10)", 
            "cell_type": "code", 
            "metadata": {}, 
            "outputs": [
                {
                    "output_type": "stream", 
                    "name": "stdout", 
                    "text": "Solving environment: done\n\n# All requested packages already installed.\n\nSolving environment: done\n\n# All requested packages already installed.\n\nSolving environment: done\n\n# All requested packages already installed.\n\nRequirement already satisfied: geocoder in /opt/conda/envs/DSX-Python35/lib/python3.5/site-packages (1.38.1)\nRequirement already satisfied: ratelim in /opt/conda/envs/DSX-Python35/lib/python3.5/site-packages (from geocoder) (0.1.6)\nRequirement already satisfied: future in /opt/conda/envs/DSX-Python35/lib/python3.5/site-packages (from geocoder) (0.16.0)\nRequirement already satisfied: requests in /opt/conda/envs/DSX-Python35/lib/python3.5/site-packages (from geocoder) (2.19.1)\nRequirement already satisfied: six in /opt/conda/envs/DSX-Python35/lib/python3.5/site-packages (from geocoder) (1.11.0)\nRequirement already satisfied: click in /opt/conda/envs/DSX-Python35/lib/python3.5/site-packages (from geocoder) (6.7)\nRequirement already satisfied: decorator in /opt/conda/envs/DSX-Python35/lib/python3.5/site-packages (from ratelim->geocoder) (4.1.2)\nRequirement already satisfied: chardet<3.1.0,>=3.0.2 in /opt/conda/envs/DSX-Python35/lib/python3.5/site-packages (from requests->geocoder) (3.0.4)\nRequirement already satisfied: urllib3<1.24,>=1.21.1 in /opt/conda/envs/DSX-Python35/lib/python3.5/site-packages (from requests->geocoder) (1.22)\nRequirement already satisfied: idna<2.8,>=2.5 in /opt/conda/envs/DSX-Python35/lib/python3.5/site-packages (from requests->geocoder) (2.6)\nRequirement already satisfied: certifi>=2017.4.17 in /opt/conda/envs/DSX-Python35/lib/python3.5/site-packages (from requests->geocoder) (2019.3.9)\n\u001b[31mtensorflow 1.3.0 requires tensorflow-tensorboard<0.2.0,>=0.1.0, which is not installed.\u001b[0m\n"
                }, 
                {
                    "output_type": "execute_result", 
                    "data": {
                        "text/plain": "   Postcode           Borough     Neighbourhood\n3       M3A        North York         Parkwoods\n4       M4A        North York  Victoria Village\n5       M5A  Downtown Toronto      Harbourfront\n6       M5A  Downtown Toronto       Regent Park\n7       M6A        North York  Lawrence Heights\n8       M6A        North York    Lawrence Manor\n9       M7A      Queen's Park      Queen's Park\n11      M9A         Etobicoke  Islington Avenue\n12      M1B       Scarborough             Rouge\n13      M1B       Scarborough           Malvern", 
                        "text/html": "<div>\n<style scoped>\n    .dataframe tbody tr th:only-of-type {\n        vertical-align: middle;\n    }\n\n    .dataframe tbody tr th {\n        vertical-align: top;\n    }\n\n    .dataframe thead th {\n        text-align: right;\n    }\n</style>\n<table border=\"1\" class=\"dataframe\">\n  <thead>\n    <tr style=\"text-align: right;\">\n      <th></th>\n      <th>Postcode</th>\n      <th>Borough</th>\n      <th>Neighbourhood</th>\n    </tr>\n  </thead>\n  <tbody>\n    <tr>\n      <th>3</th>\n      <td>M3A</td>\n      <td>North York</td>\n      <td>Parkwoods</td>\n    </tr>\n    <tr>\n      <th>4</th>\n      <td>M4A</td>\n      <td>North York</td>\n      <td>Victoria Village</td>\n    </tr>\n    <tr>\n      <th>5</th>\n      <td>M5A</td>\n      <td>Downtown Toronto</td>\n      <td>Harbourfront</td>\n    </tr>\n    <tr>\n      <th>6</th>\n      <td>M5A</td>\n      <td>Downtown Toronto</td>\n      <td>Regent Park</td>\n    </tr>\n    <tr>\n      <th>7</th>\n      <td>M6A</td>\n      <td>North York</td>\n      <td>Lawrence Heights</td>\n    </tr>\n    <tr>\n      <th>8</th>\n      <td>M6A</td>\n      <td>North York</td>\n      <td>Lawrence Manor</td>\n    </tr>\n    <tr>\n      <th>9</th>\n      <td>M7A</td>\n      <td>Queen's Park</td>\n      <td>Queen's Park</td>\n    </tr>\n    <tr>\n      <th>11</th>\n      <td>M9A</td>\n      <td>Etobicoke</td>\n      <td>Islington Avenue</td>\n    </tr>\n    <tr>\n      <th>12</th>\n      <td>M1B</td>\n      <td>Scarborough</td>\n      <td>Rouge</td>\n    </tr>\n    <tr>\n      <th>13</th>\n      <td>M1B</td>\n      <td>Scarborough</td>\n      <td>Malvern</td>\n    </tr>\n  </tbody>\n</table>\n</div>"
                    }, 
                    "execution_count": 1, 
                    "metadata": {}
                }
            ], 
            "execution_count": 1
        }, 
        {
            "source": "# Not possible to use Geocoder, so I'm loading the csv file\n\ndf_coordinates = pd.read_csv('http://cocl.us/Geospatial_data')\n\ndic_coordinates = df_coordinates.set_index('Postal Code').to_dict() #Creating a dictionary for coordinates", 
            "cell_type": "code", 
            "metadata": {}, 
            "outputs": [], 
            "execution_count": 33
        }, 
        {
            "source": "# This For-loop checks the latitude and longitude in the dictionary and passes it to a new dataframe\n\ndf_latitude_and_longitude = df_clean\n\nfor index, row in df_latitude_and_longitude.iterrows():\n    df_latitude_and_longitude.at[index,'Latitude'] = dic_coordinates[\"Latitude\"][row['Postcode']]\n    df_latitude_and_longitude.at[index,'Longitude'] = dic_coordinates[\"Longitude\"][row['Postcode']]\ndf_latitude_and_longitude.head()", 
            "cell_type": "code", 
            "metadata": {}, 
            "outputs": [
                {
                    "output_type": "execute_result", 
                    "data": {
                        "text/plain": "  Postcode           Borough     Neighbourhood   Latitude  Longitude\n3      M3A        North York         Parkwoods  43.753259 -79.329656\n4      M4A        North York  Victoria Village  43.725882 -79.315572\n5      M5A  Downtown Toronto      Harbourfront  43.654260 -79.360636\n6      M5A  Downtown Toronto       Regent Park  43.654260 -79.360636\n7      M6A        North York  Lawrence Heights  43.718518 -79.464763", 
                        "text/html": "<div>\n<style scoped>\n    .dataframe tbody tr th:only-of-type {\n        vertical-align: middle;\n    }\n\n    .dataframe tbody tr th {\n        vertical-align: top;\n    }\n\n    .dataframe thead th {\n        text-align: right;\n    }\n</style>\n<table border=\"1\" class=\"dataframe\">\n  <thead>\n    <tr style=\"text-align: right;\">\n      <th></th>\n      <th>Postcode</th>\n      <th>Borough</th>\n      <th>Neighbourhood</th>\n      <th>Latitude</th>\n      <th>Longitude</th>\n    </tr>\n  </thead>\n  <tbody>\n    <tr>\n      <th>3</th>\n      <td>M3A</td>\n      <td>North York</td>\n      <td>Parkwoods</td>\n      <td>43.753259</td>\n      <td>-79.329656</td>\n    </tr>\n    <tr>\n      <th>4</th>\n      <td>M4A</td>\n      <td>North York</td>\n      <td>Victoria Village</td>\n      <td>43.725882</td>\n      <td>-79.315572</td>\n    </tr>\n    <tr>\n      <th>5</th>\n      <td>M5A</td>\n      <td>Downtown Toronto</td>\n      <td>Harbourfront</td>\n      <td>43.654260</td>\n      <td>-79.360636</td>\n    </tr>\n    <tr>\n      <th>6</th>\n      <td>M5A</td>\n      <td>Downtown Toronto</td>\n      <td>Regent Park</td>\n      <td>43.654260</td>\n      <td>-79.360636</td>\n    </tr>\n    <tr>\n      <th>7</th>\n      <td>M6A</td>\n      <td>North York</td>\n      <td>Lawrence Heights</td>\n      <td>43.718518</td>\n      <td>-79.464763</td>\n    </tr>\n  </tbody>\n</table>\n</div>"
                    }, 
                    "execution_count": 40, 
                    "metadata": {}
                }
            ], 
            "execution_count": 40
        }, 
        {
            "source": "", 
            "cell_type": "code", 
            "metadata": {}, 
            "outputs": [
                {
                    "output_type": "stream", 
                    "name": "stdout", 
                    "text": "{'key_1': 1, 'key_2': 2}\n"
                }
            ], 
            "execution_count": 31
        }, 
        {
            "source": "", 
            "cell_type": "code", 
            "metadata": {}, 
            "outputs": [], 
            "execution_count": null
        }
    ], 
    "metadata": {
        "kernelspec": {
            "display_name": "Python 3.5", 
            "name": "python3", 
            "language": "python"
        }, 
        "language_info": {
            "mimetype": "text/x-python", 
            "nbconvert_exporter": "python", 
            "version": "3.5.5", 
            "name": "python", 
            "pygments_lexer": "ipython3", 
            "file_extension": ".py", 
            "codemirror_mode": {
                "version": 3, 
                "name": "ipython"
            }
        }
    }, 
    "nbformat": 4
}